{
 "cells": [
  {
   "cell_type": "markdown",
   "id": "47c6997e",
   "metadata": {},
   "source": [
    "<h1>Visualizing the Outputs</h1>"
   ]
  },
  {
   "cell_type": "code",
   "execution_count": null,
   "id": "6e0cfca1",
   "metadata": {},
   "outputs": [],
   "source": [
    "# For reproducibility\n",
    "import random\n",
    "import numpy as np\n",
    "r_state = 42\n",
    "random.seed(r_state) \n",
    "np.random.seed(r_state)\n",
    "\n",
    "import os\n",
    "import re\n",
    "import pandas as pd\n",
    "import seaborn as sns\n",
    "\n",
    "# Needed on a Mac\n",
    "import matplotlib as mpl\n",
    "mpl.use('TkAgg')\n",
    "%matplotlib inline\n",
    "import matplotlib.pyplot as plt\n",
    "\n",
    "from matplotlib.colors import ListedColormap"
   ]
  },
  {
   "cell_type": "markdown",
   "id": "68e98f5a",
   "metadata": {},
   "source": [
    "<h2>Create Grid Styles</h2>"
   ]
  },
  {
   "cell_type": "code",
   "execution_count": null,
   "id": "8b992a65",
   "metadata": {},
   "outputs": [],
   "source": [
    "sns.set_style('whitegrid') # darkgrid, white grid, dark, white and ticks\n",
    "plt.rc('axes', titlesize=18)     # fontsize of the axes title\n",
    "plt.rc('axes', labelsize=14)    # fontsize of the x and y labels\n",
    "plt.rc('xtick', labelsize=13)    # fontsize of the tick labels\n",
    "plt.rc('ytick', labelsize=13)    # fontsize of the tick labels\n",
    "plt.rc('legend', fontsize=13)    # legend fontsize\n",
    "plt.rc('font', size=13)# controls default text sizes\n",
    "colors = sns.color_palette(\"Spectral\", 10) #color palette"
   ]
  },
  {
   "cell_type": "markdown",
   "id": "1c7cfa03",
   "metadata": {},
   "source": [
    "<h2>Load the Data for Neighborhood Scores</h2>"
   ]
  },
  {
   "cell_type": "code",
   "execution_count": null,
   "id": "78513d79",
   "metadata": {},
   "outputs": [],
   "source": [
    "bos_tracts = pd.read_csv('/Users/ritalaplante/Desktop/Thesis Data and Analytics/Census_2010_Tracts.csv', index_col = 0)\n",
    "bos_tracts.rename(columns = {'GEOID10':'geoid'}, inplace = True)\n",
    "\n",
    "to_use = 'Untransformed'\n",
    "alg = 'RF'\n",
    "\n",
    "scores_all = pd.read_csv('/Users/ritalaplante/Desktop/Thesis Data and Analytics/07-Neighborhood Predictions/Predicted'+to_use+alg+'.csv', index_col=0)\n",
    "scores_bos = pd.merge(scores_all, bos_tracts, on='geoid', how='inner')"
   ]
  },
  {
   "cell_type": "code",
   "execution_count": null,
   "id": "65b4b27e",
   "metadata": {},
   "outputs": [],
   "source": [
    "#scores_all.head()\n",
    "from scipy.stats import pearsonr\n",
    "corr_asc_all, _ = pearsonr(scores_all['SES Ascent 2010-2019'], scores_all['SES Ascent 2010-2019 (Predicted)'])\n",
    "corr_asc_bos, _ = pearsonr(scores_bos['SES Ascent 2010-2019'], scores_bos['SES Ascent 2010-2019 (Predicted)'])\n",
    "\n",
    "print('Correlation Ascent All:', corr_asc_all)\n",
    "print('Correlation Ascent Boston:', corr_asc_bos)"
   ]
  },
  {
   "cell_type": "code",
   "execution_count": null,
   "id": "4ba0bef4",
   "metadata": {},
   "outputs": [],
   "source": [
    "#scores_all.head()\n",
    "corr_score_all, _ = pearsonr(scores_all['SES 2019'], scores_all['SES 2019 (Predicted)'])\n",
    "corr_score_bos, _ = pearsonr(scores_bos['SES 2019'], scores_bos['SES 2019 (Predicted)'])\n",
    "\n",
    "print('Correlation Scores All:', corr_score_all)\n",
    "print('Correlation Scores Boston:', corr_score_bos)"
   ]
  },
  {
   "cell_type": "markdown",
   "id": "4e088201",
   "metadata": {},
   "source": [
    "<h2>Score Distributions in 2010, 2019, 2028</h2>"
   ]
  },
  {
   "cell_type": "markdown",
   "id": "cfae639c",
   "metadata": {},
   "source": [
    "<h3>Density Line Graphs</h3>"
   ]
  },
  {
   "cell_type": "code",
   "execution_count": null,
   "id": "6a6316d6",
   "metadata": {},
   "outputs": [],
   "source": [
    "fig, ax = plt.subplots(3,2, figsize=(15, 8), tight_layout=True)\n",
    "\n",
    "#2010\n",
    "fig_gb_1 = sns.kdeplot(scores_all['SES 2010'], shade=False, color = colors[0], lw = 2.5, ax = ax[0][0])\n",
    "fig_bos_1 = sns.kdeplot(scores_bos['SES 2010'], shade=False, color = colors[0], lw = 2.5, ax = ax[0][1])\n",
    "\n",
    "fig_gb_1.set_xlabel('Neighborhood Score')\n",
    "fig_bos_1.set_xlabel('Neighborhood Score')\n",
    "\n",
    "ax[0][0].set_title('Neighborhood Scores 2010 (Greater Boston)', weight = 'bold', pad = 15)\n",
    "ax[0][1].set_title('Neighborhood Scores 2010 (Boston)', weight = 'bold', pad = 15)\n",
    "\n",
    "#2019\n",
    "fig_gb_2 = sns.kdeplot(scores_all['SES 2019'], shade=False, color = colors[7], lw = 2.5, ax = ax[1][0])\n",
    "fig_bos_2 = sns.kdeplot(scores_bos['SES 2019'], shade=False, color = colors[7], lw = 2.5, ax = ax[1][1])\n",
    "\n",
    "fig_gb_2.set_xlabel('Neighborhood Score')\n",
    "fig_bos_2.set_xlabel('Neighborhood Score')\n",
    "\n",
    "ax[1][0].set_title('Neighborhood Scores 2019 (Greater Boston)', weight = 'bold', pad = 15)\n",
    "ax[1][1].set_title('Neighborhood Scores 2019 (Boston)', weight = 'bold', pad = 15)\n",
    "\n",
    "#2028\n",
    "fig_gb_2 = sns.kdeplot(scores_all['SES 2028 (Predicted)'], shade=False, color = colors[9], lw = 2.5, ax = ax[2][0])\n",
    "fig_bos_2 = sns.kdeplot(scores_bos['SES 2028 (Predicted)'], shade=False, color = colors[9], lw = 2.5, ax = ax[2][1])\n",
    "\n",
    "fig_gb_2.set_xlabel('Neighborhood Score')\n",
    "fig_bos_2.set_xlabel('Neighborhood Score')\n",
    "\n",
    "ax[2][0].set_title('Neighborhood Scores 2028 (Greater Boston)', weight = 'bold', pad = 15)\n",
    "ax[2][1].set_title('Neighborhood Scores 2028 (Boston)', weight = 'bold', pad = 15)\n",
    "\n",
    "#plt.show()\n",
    "plt.savefig(\"/Users/ritalaplante/Desktop/Thesis Data and Analytics/08-Plot Outputs/Score Distributions/dist_separatePlots.png\",dpi=300)"
   ]
  },
  {
   "cell_type": "code",
   "execution_count": null,
   "id": "3aea7f61",
   "metadata": {},
   "outputs": [],
   "source": [
    "fig, ax = plt.subplots(1,2, figsize=(12, 5), tight_layout=True)\n",
    "\n",
    "#Greater Boston\n",
    "fig_gb = sns.kdeplot(scores_all['SES 2010'], shade=False, color = colors[0], lw = 2.5, label='2010', ax = ax[0])\n",
    "fig_gb = sns.kdeplot(scores_all['SES 2019'], shade=False, color=colors[7], lw = 2.5, label = '2019', ax = ax[0])\n",
    "fig_gb = sns.kdeplot(scores_all['SES 2028 (Predicted)'], shade=False, color=colors[9], lw = 2.5, label = '2028 (Predicted)', ax = ax[0])\n",
    "\n",
    "fig_gb.legend(title='Year', title_fontsize='13', loc='upper right', fancybox = True, shadow = True)\n",
    "fig_gb.set_xlabel('Neighborhood Score')\n",
    "\n",
    "#Boston\n",
    "fig_bos = sns.kdeplot(scores_bos['SES 2010'], shade=False, color = colors[0], lw = 2.5, label='2010', ax = ax[1])\n",
    "fig_bos = sns.kdeplot(scores_bos['SES 2019'], shade=False, color=colors[7], lw = 2.5, label = '2019', ax = ax[1])\n",
    "fig_bos = sns.kdeplot(scores_bos['SES 2028 (Predicted)'], shade=False, color=colors[9], lw = 2.5, label = '2028 (Predicted)', ax = ax[1])\n",
    "\n",
    "fig_bos.legend(title='Year', title_fontsize='13', loc='upper right', fancybox = True, shadow = True)\n",
    "fig_bos.set_xlabel('Neighborhood Score')\n",
    "\n",
    "ax[0].set_title('Neighborhood Scores Over Time (Greater Boston)', weight = 'bold', pad = 15)\n",
    "ax[1].set_title('Neighborhood Scores Over Time (Boston)', weight = 'bold', pad = 15)\n",
    "\n",
    "ax[0].set_xlim([-5, 10])\n",
    "ax[1].set_xlim([-5, 10])\n",
    "\n",
    "#plt.show()\n",
    "plt.savefig(\"/Users/ritalaplante/Desktop/Thesis Data and Analytics/08-Plot Outputs/Score Distributions/dist_onePlot.png\",dpi=300)"
   ]
  },
  {
   "cell_type": "markdown",
   "id": "cf67aca0",
   "metadata": {},
   "source": [
    "<h2>Neighborhood Percentile Ascent 2010-2019 and 2019-2018</h2>"
   ]
  },
  {
   "cell_type": "code",
   "execution_count": null,
   "id": "121e3955",
   "metadata": {},
   "outputs": [],
   "source": [
    "fig, ax = plt.subplots(2,2, figsize=(15, 8), tight_layout=True)\n",
    "\n",
    "#2010-2019\n",
    "fig_gb_1 = sns.kdeplot(scores_all['SES Percentile Ascent 2010-2019'], shade=False, color = colors[0], lw = 2.5, ax = ax[0][0])\n",
    "fig_bos_1 = sns.kdeplot(scores_bos['SES Percentile Ascent 2010-2019'], shade=False, color = colors[0], lw = 2.5, ax = ax[0][1])\n",
    "\n",
    "#fig_gb.legend(title='Year', title_fontsize='13', loc='upper right', fancybox = True, shadow = True)\n",
    "fig_gb_1.set_xlabel('Score Percentile Ascent')\n",
    "fig_bos_1.set_xlabel('Score Percentile Ascent')\n",
    "\n",
    "ax[0][0].set_title('Percentile Change in Score 2010-2019 (Greater Boston)', weight = 'bold', pad = 15)\n",
    "ax[0][1].set_title('Percentile Change in Score 2019-2028 (Boston)', weight = 'bold', pad = 15)\n",
    "\n",
    "#2010-2019\n",
    "fig_gb_2 = sns.kdeplot(scores_all['SES Percentile Ascent 2019-2028'], shade=False, color = colors[9], lw = 2.5, ax = ax[1][0])\n",
    "fig_bos_2 = sns.kdeplot(scores_bos['SES Percentile Ascent 2019-2028'], shade=False, color = colors[9], lw = 2.5, ax = ax[1][1])\n",
    "\n",
    "fig_gb_2.set_xlabel('Score Percentile Ascent')\n",
    "fig_bos_2.set_xlabel('Score Percentile Ascent')\n",
    "\n",
    "ax[1][0].set_title('Percentile Change in Score 2019-2028 (Greater Boston)', weight = 'bold', pad = 15)\n",
    "ax[1][1].set_title('Percentile Change in Score 2019-2028 (Boston)', weight = 'bold', pad = 15)\n",
    "\n",
    "#plt.show()\n",
    "plt.savefig(\"/Users/ritalaplante/Desktop/Thesis Data and Analytics/08-Plot Outputs/Score Distributions/pr_change_separatePlots.png\",dpi=300)"
   ]
  },
  {
   "cell_type": "code",
   "execution_count": null,
   "id": "14457cb7",
   "metadata": {},
   "outputs": [],
   "source": [
    "fig, ax = plt.subplots(1,2, figsize=(15, 5), tight_layout=True)\n",
    "\n",
    "#Greater Boston\n",
    "fig_gb = sns.kdeplot(scores_all['SES Percentile Ascent 2010-2019'], shade=False, color = colors[0], lw = 2.5, label='2010-2019', ax = ax[0])\n",
    "fig_gb = sns.kdeplot(scores_all['SES Percentile Ascent 2019-2028'], shade=False, color=colors[9], lw = 2.5, label = '2019-2028', ax = ax[0])\n",
    "\n",
    "fig_gb.legend(title='Year', title_fontsize='13', loc='upper right', fancybox = True, shadow = True)\n",
    "fig_gb.set_xlabel('Score Percentile Ascent')\n",
    "\n",
    "#Boston\n",
    "fig_bos = sns.kdeplot(scores_bos['SES Percentile Ascent 2010-2019'], shade=False, color = colors[0], lw = 2.5, label='2010-2019', ax = ax[1])\n",
    "fig_bos = sns.kdeplot(scores_bos['SES Percentile Ascent 2019-2028'], shade=False, color=colors[9], lw = 2.5, label = '2019-2028', ax = ax[1])\n",
    "\n",
    "fig_bos.legend(title='Year', title_fontsize='13', loc='upper right', fancybox = True, shadow = True)\n",
    "fig_bos.set_xlabel('Score Percentile Ascent')\n",
    "\n",
    "ax[0].set_title('Neighborhood Score Percentile Ascent (Greater Boston)', weight = 'bold', pad = 15)\n",
    "ax[1].set_title('Neighborhood Score Percentile Ascent (Boston)', weight = 'bold', pad = 15)\n",
    "\n",
    "#plt.show()\n",
    "plt.savefig(\"/Users/ritalaplante/Desktop/Thesis Data and Analytics/08-Plot Outputs/Score Distributions/pr_change_onePlot.png\",dpi=300)"
   ]
  },
  {
   "cell_type": "markdown",
   "id": "464b50bd",
   "metadata": {},
   "source": [
    "<h2>Neighborhood Score Changes 2010-2019 Against 2019-2028</h2>"
   ]
  },
  {
   "cell_type": "code",
   "execution_count": null,
   "id": "cb2ed31c",
   "metadata": {},
   "outputs": [],
   "source": [
    "fig, ax = plt.subplots(1,2, figsize=(15, 5), tight_layout=True)\n",
    "\n",
    "fig_gb = sns.regplot(x=\"SES Ascent 2010-2019\",y=\"SES Ascent 2019-2028 (Predicted)\", data=scores_all, scatter_kws={\"color\": colors[9]}, line_kws={\"color\": colors[0]}, ax = ax[0])\n",
    "fig_bos = sns.regplot(x=\"SES Ascent 2010-2019\",y=\"SES Ascent 2019-2028 (Predicted)\", data=scores_bos, scatter_kws={\"color\": colors[9]}, line_kws={\"color\": colors[0]}, ax = ax[1])\n",
    "\n",
    "fig_gb.set_xlabel('Score Ascent 2010-2019')\n",
    "fig_bos.set_xlabel('Score Ascent 2010-2019')\n",
    "\n",
    "fig_gb.set_ylabel('Score Ascent 2019-2028 (Predicted)')\n",
    "fig_bos.set_ylabel('Score Ascent 2019-2028 (Predicted)')\n",
    "\n",
    "ax[0].set_xlim([-0.5, 3.5])\n",
    "ax[0].set_ylim([-0.5, 3.5])\n",
    "\n",
    "ax[1].set_xlim([-0.5, 3.5])\n",
    "ax[1].set_ylim([-0.5, 3.5])\n",
    "\n",
    "ax[0].set_title('Changes in Neighborhood Ascent (Greater Boston)', weight = 'bold', pad = 15)\n",
    "ax[1].set_title('Changes in Neighborhood Ascent (Boston)', weight = 'bold', pad = 15)\n",
    "\n",
    "#plt.show()\n",
    "plt.savefig(\"/Users/ritalaplante/Desktop/Thesis Data and Analytics/08-Plot Outputs/Score Distributions/ascent_change.png\",dpi=300)"
   ]
  },
  {
   "cell_type": "markdown",
   "id": "1d11b01d",
   "metadata": {},
   "source": [
    "<h2>Random Forest Prediction Accuracy</h2>"
   ]
  },
  {
   "cell_type": "code",
   "execution_count": null,
   "id": "dbb5bcab",
   "metadata": {},
   "outputs": [],
   "source": [
    "fig, ax = plt.subplots(1,2, figsize=(15, 5), tight_layout=True)\n",
    "\n",
    "fig_gb = sns.regplot(x=\"SES Ascent 2010-2019\",y=\"SES Ascent 2010-2019 (Predicted)\", data=scores_all, scatter_kws={\"color\": colors[9]}, line_kws={\"color\": colors[0]}, ax = ax[0])\n",
    "fig_bos = sns.regplot(x=\"SES Ascent 2010-2019\",y=\"SES Ascent 2010-2019 (Predicted)\", data=scores_bos, scatter_kws={\"color\": colors[9]}, line_kws={\"color\": colors[0]}, ax = ax[1])\n",
    "\n",
    "fig_gb.set_xlabel('Score Ascent 2010-2019 (Actual)')\n",
    "fig_bos.set_xlabel('Score Ascent 2010-2019 (Actual)')\n",
    "\n",
    "fig_gb.set_ylabel('Score Ascent 2010-2019 (Predicted)')\n",
    "fig_bos.set_ylabel('Score Ascent 2010-2019 (Predicted)')\n",
    "\n",
    "ax[0].set_xlim([-0.5, 3.5])\n",
    "ax[0].set_ylim([-0.5, 3.5])\n",
    "\n",
    "ax[1].set_xlim([-0.5, 3.5])\n",
    "ax[1].set_ylim([-0.5, 3.5])\n",
    "\n",
    "ax[0].set_title('Neighborhood Ascent Actual vs. Predicted (Greater Boston)', weight = 'bold', pad = 15)\n",
    "ax[1].set_title('Neighborhood Ascent Actual vs. Predicted (Boston)', weight = 'bold', pad = 15)\n",
    "\n",
    "#plt.show()\n",
    "plt.savefig(\"/Users/ritalaplante/Desktop/Thesis Data and Analytics/08-Plot Outputs/Prediction Results/actual_vs_predicted_ascent\"+alg+\".png\",dpi=300)"
   ]
  },
  {
   "cell_type": "code",
   "execution_count": null,
   "id": "503cb954",
   "metadata": {},
   "outputs": [],
   "source": [
    "fig, ax = plt.subplots(1,2, figsize=(15, 5), tight_layout=True)\n",
    "\n",
    "fig_gb = sns.regplot(x=\"SES 2019\",y=\"SES 2019 (Predicted)\", data=scores_all, scatter_kws={\"color\": colors[9]}, line_kws={\"color\": colors[0]}, ax = ax[0])\n",
    "fig_bos = sns.regplot(x=\"SES 2019\",y=\"SES 2019 (Predicted)\", data=scores_bos, scatter_kws={\"color\": colors[9]}, line_kws={\"color\": colors[0]}, ax = ax[1])\n",
    "\n",
    "fig_gb.set_xlabel('Score 2019 (Actual)')\n",
    "fig_bos.set_xlabel('Score 2019 (Actual)')\n",
    "\n",
    "fig_gb.set_ylabel('Score 2019 (Predicted)')\n",
    "fig_bos.set_ylabel('Score 2019 (Predicted)')\n",
    "\n",
    "\n",
    "ax[0].set_title('Neighborhood Score Actual vs. Predicted (Greater Boston)', weight = 'bold', pad = 15)\n",
    "ax[1].set_title('Neighborhood Score Actual vs. Predicted (Boston)', weight = 'bold', pad = 15)\n",
    "\n",
    "#plt.show()\n",
    "plt.savefig(\"/Users/ritalaplante/Desktop/Thesis Data and Analytics/08-Plot Outputs/Prediction Results/actual_vs_predicted_score\"+alg+\".png\",dpi=300)"
   ]
  },
  {
   "cell_type": "markdown",
   "id": "259265e4",
   "metadata": {},
   "source": [
    "<h2>Feature Importance</h2>"
   ]
  },
  {
   "cell_type": "code",
   "execution_count": null,
   "id": "98b48b61",
   "metadata": {},
   "outputs": [],
   "source": [
    "to_use = 'Untransformed'\n",
    "alg = 'RF'\n",
    "\n",
    "feature_imp = pd.read_csv('/Users/ritalaplante/Desktop/Thesis Data and Analytics/07-Neighborhood Predictions/FeatureImportance'+to_use+alg+'.csv', index_col=0)\n",
    "feature_desc = pd.read_csv('/Users/ritalaplante/Desktop/Thesis Data and Analytics/Variable Descriptions.csv')\n",
    "\n",
    "feature_desc.rename(columns = {'Variable Name':'feature'}, inplace = True)\n",
    "features = pd.merge(feature_imp, feature_desc, on='feature', how='inner')\n",
    "\n",
    "features['feature'].replace({'House Prices': 'Value Owner Occuped Units'}, inplace = True)\n",
    "\n",
    "top_4 = features.nlargest(4, 'importance')\n",
    "top_5 = features.nlargest(5, 'importance')\n",
    "top_10 = features.nlargest(10, 'importance')\n",
    "\n",
    "top_5_feat = top_5['feature']\n",
    "top_4_feat = top_4['feature']\n",
    "top_10_feat = top_10['feature']\n",
    "\n",
    "importance = features['importance']\n",
    "var_cat = features['Variable Category']"
   ]
  },
  {
   "cell_type": "code",
   "execution_count": null,
   "id": "842fc17a",
   "metadata": {},
   "outputs": [],
   "source": [
    "features.head(10)"
   ]
  },
  {
   "cell_type": "markdown",
   "id": "084a9c5d",
   "metadata": {},
   "source": [
    "<h3>Top 5 Extremely Random Trees</h3>"
   ]
  },
  {
   "cell_type": "code",
   "execution_count": null,
   "id": "a2f4325f",
   "metadata": {},
   "outputs": [],
   "source": [
    "plt.figure(figsize=(15,6), tight_layout=True)\n",
    "fig = sns.scatterplot(data=features, x='Variable Category', y='importance', color = 'black', s=60)\n",
    "\n",
    "fig.set(xlabel='Variable Group', ylabel='Variable Importance')\n",
    "\n",
    "fig = sns.scatterplot(data=top_5, x='Variable Category', y='importance', color = colors[0], s=85)\n",
    "\n",
    "for i, feat in enumerate (top_4_feat):\n",
    "    plt.annotate(feat, xy = (var_cat[i], importance[i]), xytext = (var_cat[i], importance[i]+0.0027), ha = 'left')\n",
    "    \n",
    "for i, feat in enumerate (top_5_feat):\n",
    "    if i == 4:\n",
    "        plt.annotate(feat, xy = (var_cat[i], importance[i]), xytext = (var_cat[i], importance[i]-0.004), ha = 'left')\n",
    "        \n",
    "fig.set_title('Variable Importance in Extremely Random Trees Regression', weight = 'bold', pad = 15)\n",
    "\n",
    "fig.set_ylim([0.0, 0.12])\n",
    "\n",
    "#plt.show()\n",
    "plt.savefig(\"/Users/ritalaplante/Desktop/Thesis Data and Analytics/08-Plot Outputs/Prediction Results/feat_importance_5_ETR.png\",dpi=300)"
   ]
  },
  {
   "cell_type": "markdown",
   "id": "2e7a508a",
   "metadata": {},
   "source": [
    "<h3>Top 10 Features Extremely Random Trees</h3>"
   ]
  },
  {
   "cell_type": "code",
   "execution_count": null,
   "id": "8e886117",
   "metadata": {},
   "outputs": [],
   "source": [
    "plt.figure(figsize=(15,6), tight_layout=True)\n",
    "fig = sns.scatterplot(data=features, x='Variable Category', y='importance', color = 'black', s=60)\n",
    "\n",
    "fig.set(xlabel='Variable Group', ylabel='Variable Importance')\n",
    "\n",
    "fig = sns.scatterplot(data=top_10, x='Variable Category', y='importance', color = colors[0], s=85)\n",
    "\n",
    "for i, feat in enumerate (top_4_feat):\n",
    "    plt.annotate(feat, xy = (var_cat[i], importance[i]), xytext = (var_cat[i], importance[i]+0.0027), ha = 'left')\n",
    "    \n",
    "for i, feat in enumerate (top_5_feat):\n",
    "    if i == 4:\n",
    "        plt.annotate(feat, xy = (var_cat[i], importance[i]), xytext = (var_cat[i], importance[i]-0.004), ha = 'left')\n",
    "        \n",
    "for i, feat in enumerate (top_10_feat):\n",
    "    if i > 4 and i != 8:\n",
    "        plt.annotate(feat, xy = (var_cat[i], importance[i]), xytext = (var_cat[i], importance[i]+0.0027), ha = 'left')\n",
    "    if i == 8:\n",
    "        plt.annotate(feat, xy = (var_cat[i], importance[i]), xytext = (var_cat[i], importance[i]-0.002555), ha = 'left') \n",
    "    \n",
    "fig.set_title('Variable Importance in Extremely Random Trees Regression', weight = 'bold', pad = 15)\n",
    "\n",
    "fig.set_ylim([0.0, 0.12])\n",
    "\n",
    "#plt.show()\n",
    "plt.savefig(\"/Users/ritalaplante/Desktop/Thesis Data and Analytics/08-Plot Outputs/Prediction Results/feat_importance_10_ETR.png\",dpi=300)"
   ]
  },
  {
   "cell_type": "markdown",
   "id": "8a4cca32",
   "metadata": {},
   "source": [
    "<h3>Top 5 Traditional Random Forests</h3>"
   ]
  },
  {
   "cell_type": "code",
   "execution_count": null,
   "id": "3b46f7ca",
   "metadata": {},
   "outputs": [],
   "source": [
    "plt.figure(figsize=(15,6), tight_layout=True)\n",
    "fig = sns.scatterplot(data=features, x='Variable Category', y='importance', color = 'black', s=60)\n",
    "\n",
    "fig.set(xlabel='Variable Group', ylabel='Variable Importance')\n",
    "\n",
    "fig = sns.scatterplot(data=top_5, x='Variable Category', y='importance', color = colors[0], s=85)\n",
    "\n",
    "for i, feat in enumerate (top_4_feat):\n",
    "    plt.annotate(feat, xy = (var_cat[i], importance[i]), xytext = (var_cat[i], importance[i]+0.0027), ha = 'left')\n",
    "    \n",
    "for i, feat in enumerate (top_5_feat):\n",
    "    if i == 4:\n",
    "        plt.annotate(feat, xy = (var_cat[i], importance[i]), xytext = (var_cat[i], importance[i]-0.006), ha = 'left')\n",
    "        \n",
    "fig.set_title('Variable Importance in Random Forest Regression', weight = 'bold', pad = 15)\n",
    "\n",
    "fig.set_ylim([0.0, 0.16])\n",
    "\n",
    "#plt.show()\n",
    "plt.savefig(\"/Users/ritalaplante/Desktop/Thesis Data and Analytics/08-Plot Outputs/Prediction Results/feat_importance_5_RF.png\",dpi=300)"
   ]
  },
  {
   "cell_type": "markdown",
   "id": "39f58a5b",
   "metadata": {},
   "source": [
    "<h3>Top 10 Traditional Random Forests</h3>"
   ]
  },
  {
   "cell_type": "code",
   "execution_count": null,
   "id": "b43dc07a",
   "metadata": {},
   "outputs": [],
   "source": [
    "plt.figure(figsize=(15,6), tight_layout=True)\n",
    "fig = sns.scatterplot(data=features, x='Variable Category', y='importance', color = 'black', s=60)\n",
    "\n",
    "fig.set(xlabel='Variable Group', ylabel='Variable Importance')\n",
    "\n",
    "fig = sns.scatterplot(data=top_10, x='Variable Category', y='importance', color = colors[0], s=85)\n",
    "\n",
    "for i, feat in enumerate (top_4_feat):\n",
    "    plt.annotate(feat, xy = (var_cat[i], importance[i]), xytext = (var_cat[i], importance[i]+0.0027), ha = 'left')\n",
    "    \n",
    "for i, feat in enumerate (top_5_feat):\n",
    "    if i == 4:\n",
    "        plt.annotate(feat, xy = (var_cat[i], importance[i]), xytext = (var_cat[i], importance[i]-0.006), ha = 'left')\n",
    "        \n",
    "for i, feat in enumerate (top_10_feat):\n",
    "    if i > 4 and i != 8:\n",
    "        plt.annotate(feat, xy = (var_cat[i], importance[i]), xytext = (var_cat[i], importance[i]+0.0027), ha = 'left')\n",
    "    if i == 8:\n",
    "        plt.annotate(feat, xy = (var_cat[i], importance[i]), xytext = (var_cat[i], importance[i]-0.006), ha = 'left') \n",
    "    \n",
    "fig.set_title('Variable Importance in Random Forest Regression', weight = 'bold', pad = 15)\n",
    "\n",
    "fig.set_ylim([0.0, 0.16])\n",
    "\n",
    "#plt.show()\n",
    "plt.savefig(\"/Users/ritalaplante/Desktop/Thesis Data and Analytics/08-Plot Outputs/Prediction Results/feat_importance_10_RF.png\",dpi=300)"
   ]
  },
  {
   "cell_type": "markdown",
   "id": "60e2678a",
   "metadata": {},
   "source": [
    "<h2>Distibutions of Predictor Data</h2>"
   ]
  },
  {
   "cell_type": "code",
   "execution_count": null,
   "id": "ffea113f",
   "metadata": {},
   "outputs": [],
   "source": [
    "color_list = ['#3682ba', '#fff1a8', '#97d5a4', '#ee6445', '#f4faad', '#5cb7aa', '#d0384e', '#d1ed9c', '#fa9b58']"
   ]
  },
  {
   "cell_type": "code",
   "execution_count": null,
   "id": "bfcae0bb",
   "metadata": {},
   "outputs": [],
   "source": [
    "data_2010 = pd.read_csv('/Users/ritalaplante/Desktop/Thesis Data and Analytics/02-Cleaned Predictor Data/predictor2010.csv', index_col=0)\n",
    "data_2019 = pd.read_csv('/Users/ritalaplante/Desktop/Thesis Data and Analytics/02-Cleaned Predictor Data/predictor2019.csv', index_col=0)\n",
    "\n",
    "feature_desc = pd.read_csv('/Users/ritalaplante/Desktop/Thesis Data and Analytics/Variable Descriptions.csv')"
   ]
  },
  {
   "cell_type": "code",
   "execution_count": null,
   "id": "98ff5fe7",
   "metadata": {},
   "outputs": [],
   "source": [
    "#Race\n",
    "race_df = feature_desc[feature_desc['Variable Category'] == 'Race'] \n",
    "race = race_df['Variable Name'].values.tolist()\n",
    "df_2010 = data_2010.copy()\n",
    "df_2019 = data_2019.copy()\n",
    "\n",
    "race_data_2010 = df_2010.filter(items = race)\n",
    "race_data_2019 = df_2019.filter(items = race)\n",
    "\n",
    "#Age\n",
    "age_df = feature_desc[feature_desc['Variable Category'] == 'Age'] \n",
    "age = age_df['Variable Name'].values.tolist()\n",
    "df_2010 = data_2010.copy()\n",
    "df_2019 = data_2019.copy()\n",
    "\n",
    "age_data_2010 = df_2010.filter(items = age)\n",
    "age_data_2019 = df_2019.filter(items = age)\n",
    "\n",
    "#Housing Tenure\n",
    "ht_df = feature_desc[feature_desc['Variable Category'] == 'Housing Tenure'] \n",
    "ht = ht_df['Variable Name'].values.tolist()\n",
    "df_2010 = data_2010.copy()\n",
    "df_2019 = data_2019.copy()\n",
    "\n",
    "ht_data_2010 = df_2010.filter(items = ht)\n",
    "ht_data_2019 = df_2019.filter(items = ht)\n",
    "\n",
    "#Hours Worked\n",
    "hw_df = feature_desc[feature_desc['Variable Category'] == 'Hours Worked'] \n",
    "hw = hw_df['Variable Name'].values.tolist()\n",
    "df_2010 = data_2010.copy()\n",
    "df_2019 = data_2019.copy()\n",
    "\n",
    "hw_data_2010 = df_2010.filter(items = hw)\n",
    "hw_data_2019 = df_2019.filter(items = hw)\n",
    "\n",
    "#Citizenship\n",
    "cit_df = feature_desc[feature_desc['Variable Category'] == 'Citizenship'] \n",
    "cit = cit_df['Variable Name'].values.tolist()\n",
    "df_2010 = data_2010.copy()\n",
    "df_2019 = data_2019.copy()\n",
    "\n",
    "cit_data_2010 = df_2010.filter(items = cit)\n",
    "cit_data_2019 = df_2019.filter(items = cit)\n",
    "\n",
    "#Marital Status\n",
    "ms_df = feature_desc[feature_desc['Variable Category'] == 'Marital Status'] \n",
    "ms = ms_df['Variable Name'].values.tolist()\n",
    "df_2010 = data_2010.copy()\n",
    "df_2019 = data_2019.copy()\n",
    "\n",
    "ms_data_2010 = df_2010.filter(items = ms)\n",
    "ms_data_2019 = df_2019.filter(items = ms)\n",
    "\n",
    "#Transportation\n",
    "trans_df = feature_desc[feature_desc['Variable Category'] == 'Transportation'] \n",
    "trans = trans_df['Variable Name'].values.tolist()\n",
    "df_2010 = data_2010.copy()\n",
    "df_2019 = data_2019.copy()\n",
    "\n",
    "trans_data_2010 = df_2010.filter(items = trans)\n",
    "trans_data_2019 = df_2019.filter(items = trans)\n",
    "\n",
    "#Buidling Age\n",
    "ba_df = feature_desc[feature_desc['Variable Category'] == 'Building Age'] \n",
    "ba = ba_df['Variable Name'].values.tolist()\n",
    "df_2010 = data_2010.copy()\n",
    "df_2019 = data_2019.copy()\n",
    "\n",
    "ba_data_2010 = df_2010.filter(items = ba)\n",
    "ba_data_2019 = df_2019.filter(items = ba)\n",
    "\n",
    "#Building Structure\n",
    "bs_df = feature_desc[feature_desc['Variable Category'] == 'Building Structure'] \n",
    "bs = bs_df['Variable Name'].values.tolist()\n",
    "df_2010 = data_2010.copy()\n",
    "df_2019 = data_2019.copy()\n",
    "\n",
    "bs_data_2010 = df_2010.filter(items = bs)\n",
    "bs_data_2019 = df_2019.filter(items = bs)"
   ]
  },
  {
   "cell_type": "markdown",
   "id": "556fb39e",
   "metadata": {},
   "source": [
    "<h3>Race Distribution</h3>"
   ]
  },
  {
   "cell_type": "code",
   "execution_count": null,
   "id": "85144829",
   "metadata": {},
   "outputs": [],
   "source": [
    "fig, ax = plt.subplots(1,2, figsize=(15, 5), tight_layout=True)\n",
    "\n",
    "fig_2010 = sns.boxplot(data=race_data_2010, palette=color_list, linewidth=2.5, ax = ax[0])\n",
    "fig_2010.set(xlabel='Race', ylabel='Share of Population')\n",
    "\n",
    "fig_2019 = sns.boxplot(data=race_data_2019, palette=color_list, linewidth=2.5, ax = ax[1])\n",
    "fig_2019.set(xlabel='Race', ylabel='Share of Population')\n",
    "\n",
    "ax[0].set_title('Distribution of Race 2010', weight = 'bold', pad = 15)\n",
    "ax[1].set_title('Distribution of Race 2019', weight = 'bold', pad = 15)\n",
    "\n",
    "#plt.show()\n",
    "plt.savefig(\"/Users/ritalaplante/Desktop/Thesis Data and Analytics/08-Plot Outputs/Predictor Variable Distributions/raceDist.png\",dpi=300)"
   ]
  },
  {
   "cell_type": "markdown",
   "id": "50857cf5",
   "metadata": {},
   "source": [
    "<h3>Age Distribution</h3>"
   ]
  },
  {
   "cell_type": "code",
   "execution_count": null,
   "id": "22b25402",
   "metadata": {},
   "outputs": [],
   "source": [
    "fig, ax = plt.subplots(1,2, figsize=(15, 5), tight_layout=True)\n",
    "\n",
    "fig_2010 = sns.boxplot(data=age_data_2010, palette=color_list, linewidth=2.5, ax = ax[0])\n",
    "fig_2010.set(xlabel='Age', ylabel='Share of Population')\n",
    "\n",
    "fig_2019 = sns.boxplot(data=age_data_2019, palette=color_list, linewidth=2.5, ax = ax[1])\n",
    "fig_2019.set(xlabel='Age', ylabel='Share of Population')\n",
    "\n",
    "ax[0].set_title('Distribution of Age 2010', weight = 'bold', pad = 15)\n",
    "ax[1].set_title('Distribution of Age 2019', weight = 'bold', pad = 15)\n",
    "\n",
    "ax[1].set_ylim(top = 1.045)\n",
    "\n",
    "#plt.show()\n",
    "plt.savefig(\"/Users/ritalaplante/Desktop/Thesis Data and Analytics/08-Plot Outputs/Predictor Variable Distributions/ageDist.png\",dpi=300)"
   ]
  },
  {
   "cell_type": "markdown",
   "id": "b7195df3",
   "metadata": {},
   "source": [
    "<h3>Housing Tenure Distribution</h3>"
   ]
  },
  {
   "cell_type": "code",
   "execution_count": null,
   "id": "e91e04be",
   "metadata": {},
   "outputs": [],
   "source": [
    "fig, ax = plt.subplots(1,2, figsize=(15, 5), tight_layout=True)\n",
    "\n",
    "fig_2010 = sns.boxplot(data=ht_data_2010, palette=color_list, linewidth=2.5, ax = ax[0])\n",
    "fig_2010.set(xlabel='Housing Tenure', ylabel='Share of Population')\n",
    "\n",
    "fig_2019 = sns.boxplot(data=ht_data_2019, palette=color_list, linewidth=2.5, ax = ax[1])\n",
    "fig_2019.set(xlabel='Housing Tenure', ylabel='Share of Population')\n",
    "\n",
    "ax[0].set_title('Distribution of Housing Tenure 2010', weight = 'bold', pad = 15)\n",
    "ax[1].set_title('Distribution of Housing Tenure 2019', weight = 'bold', pad = 15)\n",
    "\n",
    "#plt.show()\n",
    "plt.savefig(\"/Users/ritalaplante/Desktop/Thesis Data and Analytics/08-Plot Outputs/Predictor Variable Distributions/tenureDist.png\",dpi=300)"
   ]
  },
  {
   "cell_type": "markdown",
   "id": "d56d5f37",
   "metadata": {},
   "source": [
    "<h3>Distribution of Hours Worked Data</h3>"
   ]
  },
  {
   "cell_type": "code",
   "execution_count": null,
   "id": "6a506f5c",
   "metadata": {},
   "outputs": [],
   "source": [
    "fig, ax = plt.subplots(1,2, figsize=(15, 5), tight_layout=True)\n",
    "\n",
    "fig_2010 = sns.boxplot(data=hw_data_2010, palette=color_list, linewidth=2.5, ax = ax[0])\n",
    "fig_2010.set(xlabel='Average Hours Worked', ylabel='Hours Worked Per Week')\n",
    "\n",
    "fig_2019 = sns.boxplot(data=hw_data_2019, palette=color_list, linewidth=2.5, ax = ax[1])\n",
    "fig_2019.set(xlabel='Average Hours Worked', ylabel='Hours Worked Per Week')\n",
    "\n",
    "ax[0].set_title('Distribution of Average Hours Worked 2010', weight = 'bold', pad = 15)\n",
    "ax[1].set_title('Distribution of Averaged Hours Worked 2019', weight = 'bold', pad = 15)\n",
    "\n",
    "ax[1].set_ylim(top = 54.5)\n",
    "\n",
    "#plt.show()\n",
    "plt.savefig(\"/Users/ritalaplante/Desktop/Thesis Data and Analytics/08-Plot Outputs/Predictor Variable Distributions/hwDist.png\",dpi=300)"
   ]
  },
  {
   "cell_type": "markdown",
   "id": "e88b9182",
   "metadata": {},
   "source": [
    "<h3>Citizenship Distribution</h3>"
   ]
  },
  {
   "cell_type": "code",
   "execution_count": null,
   "id": "e6ba027c",
   "metadata": {},
   "outputs": [],
   "source": [
    "fig, ax = plt.subplots(1,2, figsize=(15, 5), tight_layout=True)\n",
    "\n",
    "fig_2010 = sns.boxplot(data=cit_data_2010, palette=color_list, linewidth=2.5, ax = ax[0])\n",
    "fig_2010.set(xlabel='Citizenship', ylabel='Share of Population')\n",
    "\n",
    "fig_2019 = sns.boxplot(data=cit_data_2019, palette=color_list, linewidth=2.5, ax = ax[1])\n",
    "fig_2019.set(xlabel='Citizenship', ylabel='Share of Population')\n",
    "\n",
    "ax[0].set_title('Distribution of Citizenship Status 2010', weight = 'bold', pad = 15)\n",
    "ax[1].set_title('Distribution of Citizenship Status 2019', weight = 'bold', pad = 15)\n",
    "\n",
    "#plt.show()\n",
    "plt.savefig(\"/Users/ritalaplante/Desktop/Thesis Data and Analytics/08-Plot Outputs/Predictor Variable Distributions/citizenshipDist.png\",dpi=300)"
   ]
  },
  {
   "cell_type": "markdown",
   "id": "d660cdf2",
   "metadata": {},
   "source": [
    "<h3>Marital Status Distribution</h3>"
   ]
  },
  {
   "cell_type": "code",
   "execution_count": null,
   "id": "b87d829e",
   "metadata": {},
   "outputs": [],
   "source": [
    "fig, ax = plt.subplots(1,2, figsize=(15, 5), tight_layout=True)\n",
    "\n",
    "fig_2010 = sns.boxplot(data=ms_data_2010, palette=color_list, linewidth=2.5, ax = ax[0])\n",
    "fig_2010.set(xlabel='Marital Status', ylabel='Share of Population')\n",
    "\n",
    "fig_2019 = sns.boxplot(data=ms_data_2019, palette=color_list, linewidth=2.5, ax = ax[1])\n",
    "fig_2019.set(xlabel='Marital Status', ylabel='Share of Population')\n",
    "\n",
    "ax[0].set_title('Distribution of Marital Status 2010', weight = 'bold', pad = 15)\n",
    "ax[1].set_title('Distribution of Marital Status 2019', weight = 'bold', pad = 15)\n",
    "\n",
    "#plt.show()\n",
    "plt.savefig(\"/Users/ritalaplante/Desktop/Thesis Data and Analytics/08-Plot Outputs/Predictor Variable Distributions/marriageDist.png\",dpi=300)"
   ]
  },
  {
   "cell_type": "markdown",
   "id": "3a90eb27",
   "metadata": {},
   "source": [
    "<h3>Transportation Distribution</h3>"
   ]
  },
  {
   "cell_type": "code",
   "execution_count": null,
   "id": "59702a7c",
   "metadata": {},
   "outputs": [],
   "source": [
    "fig, ax = plt.subplots(1,2, figsize=(25, 8), tight_layout=True)\n",
    "\n",
    "fig_2010 = sns.boxplot(data=trans_data_2010, palette=color_list, linewidth=2.5, ax = ax[0])\n",
    "fig_2010.set(xlabel='Transportation Type', ylabel='Share of Population')\n",
    "\n",
    "fig_2019 = sns.boxplot(data=trans_data_2019, palette=color_list, linewidth=2.5, ax = ax[1])\n",
    "fig_2019.set(xlabel='Transportation Type', ylabel='Share of Population')\n",
    "\n",
    "ax[0].set_title('Distribution of Mode of Transportation to Work 2010', weight = 'bold', pad = 15)\n",
    "ax[1].set_title('Distribution of Mode of Transportation to Work 2019', weight = 'bold', pad = 15)\n",
    "\n",
    "#plt.show()\n",
    "plt.savefig(\"/Users/ritalaplante/Desktop/Thesis Data and Analytics/08-Plot Outputs/Predictor Variable Distributions/transportationDist.png\",dpi=300)"
   ]
  },
  {
   "cell_type": "markdown",
   "id": "65390a1f",
   "metadata": {},
   "source": [
    "<h3>Building Age Distribution</h3>"
   ]
  },
  {
   "cell_type": "code",
   "execution_count": null,
   "id": "86520f8a",
   "metadata": {},
   "outputs": [],
   "source": [
    "fig, ax = plt.subplots(1,2, figsize=(20, 8), tight_layout=True)\n",
    "\n",
    "fig_2010 = sns.boxplot(data=ba_data_2010, palette=color_list, linewidth=2.5, ax = ax[0])\n",
    "fig_2010.set(xlabel='Building Age', ylabel='Share of Buildings')\n",
    "\n",
    "fig_2019 = sns.boxplot(data=ba_data_2019, palette=color_list, linewidth=2.5, ax = ax[1])\n",
    "fig_2019.set(xlabel='Building Age', ylabel='Share of Buildings')\n",
    "\n",
    "ax[0].set_title('Distribution of Untransformed Building Age 2010', weight = 'bold', pad = 15)\n",
    "ax[1].set_title('Distribution of Untransformed Building Age 2019', weight = 'bold', pad = 15)\n",
    "\n",
    "#plt.show()\n",
    "plt.savefig(\"/Users/ritalaplante/Desktop/Thesis Data and Analytics/08-Plot Outputs/Predictor Variable Distributions/baDist.png\",dpi=300)"
   ]
  },
  {
   "cell_type": "markdown",
   "id": "be99c107",
   "metadata": {},
   "source": [
    "<h3>Building Structure Distribution</h3>"
   ]
  },
  {
   "cell_type": "code",
   "execution_count": null,
   "id": "a2c3a1ad",
   "metadata": {},
   "outputs": [],
   "source": [
    "fig, ax = plt.subplots(1,2, figsize=(20, 8), tight_layout=True)\n",
    "\n",
    "fig_2010 = sns.boxplot(data=bs_data_2010, palette=color_list, linewidth=2.5, ax = ax[0])\n",
    "fig_2010.set(xlabel='Structure Type', ylabel='Share of Buildings')\n",
    "\n",
    "fig_2019 = sns.boxplot(data=bs_data_2019, palette=color_list, linewidth=2.5, ax = ax[1])\n",
    "fig_2019.set(xlabel='Structure Type', ylabel='Share of Buildings')\n",
    "\n",
    "ax[0].set_title('Distribution of Untransformed Building Structure 2010', weight = 'bold', pad = 15)\n",
    "ax[1].set_title('Distribution of Untransformed Building Structure 2019', weight = 'bold', pad = 15)\n",
    "\n",
    "#plt.show()\n",
    "plt.savefig(\"/Users/ritalaplante/Desktop/Thesis Data and Analytics/08-Plot Outputs/Predictor Variable Distributions/bsDist.png\",dpi=300)"
   ]
  },
  {
   "cell_type": "markdown",
   "id": "6ba5fce2",
   "metadata": {},
   "source": [
    "<h2>Predictor Data Distributions</h2>"
   ]
  },
  {
   "cell_type": "code",
   "execution_count": null,
   "id": "2bc8e7f8",
   "metadata": {},
   "outputs": [],
   "source": [
    "cr_2010 = pd.read_csv('/Users/ritalaplante/Desktop/Thesis Data and Analytics/03-Cleaned Scoring Data/cr2010.csv', index_col=0)\n",
    "cr_2019 = pd.read_csv('/Users/ritalaplante/Desktop/Thesis Data and Analytics/03-Cleaned Scoring Data/cr2019.csv', index_col=1)\n",
    "\n",
    "edu_2010 = pd.read_csv('/Users/ritalaplante/Desktop/Thesis Data and Analytics/03-Cleaned Scoring Data/education2010.csv', index_col=0)\n",
    "edu_2019 = pd.read_csv('/Users/ritalaplante/Desktop/Thesis Data and Analytics/03-Cleaned Scoring Data/education2019.csv', index_col=1)\n",
    "\n",
    "inc_2010 = pd.read_csv('/Users/ritalaplante/Desktop/Thesis Data and Analytics/03-Cleaned Scoring Data/income2010.csv', index_col=0)\n",
    "inc_2019 = pd.read_csv('/Users/ritalaplante/Desktop/Thesis Data and Analytics/03-Cleaned Scoring Data/income2019.csv', index_col=1)\n",
    "\n",
    "occ_2010 = pd.read_csv('/Users/ritalaplante/Desktop/Thesis Data and Analytics/03-Cleaned Scoring Data/occupation2010.csv', index_col=0)\n",
    "occ_2019 = pd.read_csv('/Users/ritalaplante/Desktop/Thesis Data and Analytics/03-Cleaned Scoring Data/occupation2019.csv', index_col=1)\n",
    "\n",
    "value_2010 = pd.read_csv('/Users/ritalaplante/Desktop/Thesis Data and Analytics/03-Cleaned Scoring Data/value2010.csv', index_col=0)\n",
    "value_2019 = pd.read_csv('/Users/ritalaplante/Desktop/Thesis Data and Analytics/03-Cleaned Scoring Data/value2019.csv', index_col=1)"
   ]
  },
  {
   "cell_type": "code",
   "execution_count": null,
   "id": "c4e6a64d",
   "metadata": {},
   "outputs": [],
   "source": [
    "fig, ax = plt.subplots(1,2, figsize=(15, 5), tight_layout=True)\n",
    "\n",
    "fig_2010 = sns.boxplot(data=cr_2010, palette=color_list, linewidth=2.5, ax = ax[0])\n",
    "fig_2010.set(xlabel='Contract Rent', ylabel='Median Contract Rent')\n",
    "\n",
    "fig_2019 = sns.boxplot(data=cr_2019, palette=color_list, linewidth=2.5, ax = ax[1])\n",
    "fig_2019.set(xlabel='Contract Rent', ylabel='Share of Population')\n",
    "\n",
    "ax[0].set_title('Distribution of Median Contract Rent 2010', weight = 'bold', pad = 15)\n",
    "ax[1].set_title('Distribution of Median Contract Rent 2019', weight = 'bold', pad = 15)\n",
    "\n",
    "ax[0].set_ylim([150, 3500])\n",
    "ax[1].set_ylim([150, 3500])\n",
    "\n",
    "#plt.show()\n",
    "plt.savefig(\"/Users/ritalaplante/Desktop/Thesis Data and Analytics/08-Plot Outputs/Score Variable Distributions/crDist.png\",dpi=300)"
   ]
  },
  {
   "cell_type": "code",
   "execution_count": null,
   "id": "67a87462",
   "metadata": {},
   "outputs": [],
   "source": [
    "fig, ax = plt.subplots(1,2, figsize=(15, 5), tight_layout=True)\n",
    "\n",
    "fig_2010 = sns.boxplot(data=inc_2010, palette=color_list, linewidth=2.5, ax = ax[0])\n",
    "fig_2010.set(xlabel='Household Income', ylabel='Median Household Income')\n",
    "\n",
    "fig_2019 = sns.boxplot(data=inc_2019, palette=color_list, linewidth=2.5, ax = ax[1])\n",
    "fig_2019.set(xlabel='Household Income', ylabel='Median Household Income')\n",
    "\n",
    "ax[0].set_title('Distribution of Median Household Income 2010', weight = 'bold', pad = 15)\n",
    "ax[1].set_title('Distribution of Median Household Income 2019', weight = 'bold', pad = 15)\n",
    "\n",
    "ax[0].set_ylim([0, 255000])\n",
    "ax[1].set_ylim([0, 255000])\n",
    "\n",
    "#plt.show()\n",
    "plt.savefig(\"/Users/ritalaplante/Desktop/Thesis Data and Analytics/08-Plot Outputs/Score Variable Distributions/hhiDist.png\",dpi=300)"
   ]
  },
  {
   "cell_type": "code",
   "execution_count": null,
   "id": "b72e4153",
   "metadata": {},
   "outputs": [],
   "source": [
    "fig, ax = plt.subplots(1,2, figsize=(17, 5), tight_layout=True)\n",
    "\n",
    "fig_2010 = sns.boxplot(data=value_2010, palette=color_list, linewidth=2.5, ax = ax[0])\n",
    "fig_2010.set(xlabel='Value', ylabel='Median Value (In Millions of Dollars)')\n",
    "\n",
    "fig_2019 = sns.boxplot(data=value_2019, palette=color_list, linewidth=2.5, ax = ax[1])\n",
    "fig_2019.set(xlabel='Value', ylabel='Median Value (In Millions of Dollars)')\n",
    "\n",
    "ax[0].set_title('Distribution of Median Value of Owner Occupied Units 2010', weight = 'bold', pad = 15)\n",
    "ax[1].set_title('Distribution of Median Value of Owner Occupied Units 2019', weight = 'bold', pad = 15)\n",
    "\n",
    "ax[0].set_ylim([10000, 1850000])\n",
    "ax[1].set_ylim([10000, 1850000])\n",
    "\n",
    "#plt.show()\n",
    "plt.savefig(\"/Users/ritalaplante/Desktop/Thesis Data and Analytics/08-Plot Outputs/Score Variable Distributions/valueDist.png\",dpi=300)"
   ]
  },
  {
   "cell_type": "code",
   "execution_count": null,
   "id": "9c6ed232",
   "metadata": {},
   "outputs": [],
   "source": [
    "def process_edu_data(df):\n",
    "    #  Columns of interest\n",
    "    edu = ['doctorate','professional','masters','bachelors','highSchool', 'middleSchool', 'elementary', 'noSchool']\n",
    "    \n",
    "    edu_data = pd.DataFrame()\n",
    "    \n",
    "    edu_data['he_pct'] = (df.loc[:,edu[0:3]].sum(axis=1) / df.loc[:,'total (education)'])\n",
    "    \n",
    "    return edu_data\n",
    "\n",
    "edu10 = process_edu_data(edu_2010) \n",
    "edu19 = process_edu_data(edu_2019)\n",
    "\n",
    "fig, ax = plt.subplots(1,2, figsize=(15, 5), tight_layout=True)\n",
    "\n",
    "fig_2010 = sns.boxplot(data=edu10, palette=color_list, linewidth=2.5, ax = ax[0])\n",
    "fig_2010.set(xlabel='Higly Educated Population', ylabel='Share of Population')\n",
    "\n",
    "fig_2019 = sns.boxplot(data=edu19, palette=color_list, linewidth=2.5, ax = ax[1])\n",
    "fig_2019.set(xlabel='Highly Educated Population', ylabel='Share of Population')\n",
    "\n",
    "ax[0].set_title('Distribution of Education 2010', weight = 'bold', pad = 15)\n",
    "ax[1].set_title('Distribution of Eduation 2019', weight = 'bold', pad = 15)\n",
    "\n",
    "ax[1].set_ylim(top = 0.8)\n",
    "\n",
    "#plt.show()\n",
    "plt.savefig(\"/Users/ritalaplante/Desktop/Thesis Data and Analytics/08-Plot Outputs/Score Variable Distributions/eduDist.png\",dpi=300)"
   ]
  },
  {
   "cell_type": "code",
   "execution_count": null,
   "id": "f449f670",
   "metadata": {},
   "outputs": [],
   "source": [
    "def process_occ_data(df):\n",
    "    #  Columns of interest\n",
    "    occ = ['top_occ','service','sales','nat_construction','production']\n",
    "    \n",
    "    occ_data = pd.DataFrame()\n",
    "    \n",
    "    # Add the 'knowledge worker' share -- this is columns 0-2 of the data frame\n",
    "    occ_data['kw_pct'] = (df.loc[:,occ[0]] / df.loc[:,'total (occupation)'])\n",
    "    \n",
    "    return occ_data\n",
    "\n",
    "occ10 = process_occ_data(occ_2010) \n",
    "occ19 = process_occ_data(occ_2019) \n",
    "\n",
    "fig, ax = plt.subplots(1,2, figsize=(15, 5), tight_layout=True)\n",
    "\n",
    "fig_2010 = sns.boxplot(data=occ10, palette=color_list, linewidth=2.5, ax = ax[0])\n",
    "fig_2010.set(xlabel='Workers in Top Occupations', ylabel='Share of Population')\n",
    "\n",
    "fig_2019 = sns.boxplot(data=occ19, palette=color_list, linewidth=2.5, ax = ax[1])\n",
    "fig_2019.set(xlabel='Workers in Top Occupations', ylabel='Share of Population')\n",
    "\n",
    "ax[0].set_title('Distribution of Occupation 2010', weight = 'bold', pad = 15)\n",
    "ax[1].set_title('Distribution of Occupation 2019', weight = 'bold', pad = 15)\n",
    "\n",
    "ax[0].set_ylim(top = 1)\n",
    "\n",
    "#plt.show()\n",
    "plt.savefig(\"/Users/ritalaplante/Desktop/Thesis Data and Analytics/08-Plot Outputs/Score Variable Distributions/occDist.png\",dpi=300)"
   ]
  },
  {
   "cell_type": "code",
   "execution_count": null,
   "id": "9b06b4fa",
   "metadata": {},
   "outputs": [],
   "source": [
    "df = pd.read_csv('/Users/ritalaplante/Desktop/Thesis Data and Analytics/05-Transformed and Scaled Data/TransformedAndScaled2010Untransformed.csv', index_col = 0)\n",
    "scores = pd.read_csv('/Users/ritalaplante/Desktop/Thesis Data and Analytics/04-Neighborhood Scores/scoresUntransformed.csv', index_col = 0)\n",
    "score = scores['SES_10']\n",
    "\n",
    "df_full = pd.merge(score, df, on='geoid', how='inner')\n",
    "\n",
    "plt.figure(figsize=(30,20), tight_layout=True)\n",
    "# fig = sns.heatmap(df.corr(), cmap = 'BrBG')\n",
    "\n",
    "mask = np.triu(np.ones_like(df_full.corr(), dtype=bool))\n",
    "heatmap = sns.heatmap(df_full.corr(), mask=mask, vmin=-1, vmax=1)\n",
    "\n",
    "plt.show()"
   ]
  },
  {
   "cell_type": "markdown",
   "id": "88f5eefb",
   "metadata": {},
   "source": [
    "<h2>Creating Additional Data Tables for Mapping</h2>"
   ]
  },
  {
   "cell_type": "code",
   "execution_count": null,
   "id": "d885b008",
   "metadata": {},
   "outputs": [],
   "source": [
    "data_2010 = pd.read_csv('/Users/ritalaplante/Desktop/Thesis Data and Analytics/02-Cleaned Predictor Data/predictor2010.csv', index_col = 0)\n",
    "data_2019 = pd.read_csv('/Users/ritalaplante/Desktop/Thesis Data and Analytics/02-Cleaned Predictor Data/predictor2019.csv', index_col = 0)\n",
    "\n",
    "race_pop_2010 = data_2010.copy()\n",
    "race_pop_2019 = data_2019.copy()\n",
    "\n",
    "race_pop_2010 = race_pop_2010.filter(items=['white', 'asian'])\n",
    "race_pop_2019 = race_pop_2019.filter(items=['white', 'asian'])\n",
    "\n",
    "race_pop_2010['nonWhite2010'] = 1 - race_pop_2010['white']\n",
    "race_pop_2019['nonWhite2019'] = 1 - race_pop_2019['white']\n",
    "\n",
    "race_pop_2010.rename(columns={\"white\": \"white2010\", \"asian\": \"asian2010\"}, inplace = True)\n",
    "race_pop_2019.rename(columns={\"white\": \"white2019\", \"asian\": \"asian2019\"}, inplace = True)\n",
    "\n",
    "race_full = pd.merge(race_pop_2010, race_pop_2019, on='geoid', how='inner')\n",
    "race_full['asianChange'] = race_full['asian2019'] - race_full['asian2010']\n",
    "race_full['nonwhiteChange'] = race_full['nonWhite2019'] - race_full['nonWhite2010']\n",
    "race_full['whiteChange'] = race_full['white2019'] - race_full['white2010']\n",
    "\n",
    "age_pop_2010 = data_2010.copy()\n",
    "age_pop_2019 = data_2019.copy()\n",
    "\n",
    "age_pop_2010 = age_pop_2010.filter(items=['children'])\n",
    "age_pop_2019 = age_pop_2019.filter(items=['children'])\n",
    "\n",
    "age_pop_2010.rename(columns={\"children\": \"children2010\"}, inplace = True)\n",
    "age_pop_2019.rename(columns={\"children\": \"children2019\"}, inplace = True)\n",
    "\n",
    "age_full = pd.merge(age_pop_2010, age_pop_2019, on='geoid', how='inner')\n",
    "age_full['ageChange'] = age_full['children2019'] - age_full['children2010']"
   ]
  },
  {
   "cell_type": "code",
   "execution_count": null,
   "id": "b6904f5b",
   "metadata": {},
   "outputs": [],
   "source": [
    "race_full.to_csv('/Users/ritalaplante/Desktop/Thesis Data and Analytics/11-Additional Demographic Data/raceChanges.csv', index = True)\n",
    "age_full.to_csv('/Users/ritalaplante/Desktop/Thesis Data and Analytics/11-Additional Demographic Data/ageChanges.csv', index = True)"
   ]
  },
  {
   "cell_type": "code",
   "execution_count": null,
   "id": "1ea8a895",
   "metadata": {},
   "outputs": [],
   "source": []
  }
 ],
 "metadata": {
  "kernelspec": {
   "display_name": "Python 3 (ipykernel)",
   "language": "python",
   "name": "python3"
  },
  "language_info": {
   "codemirror_mode": {
    "name": "ipython",
    "version": 3
   },
   "file_extension": ".py",
   "mimetype": "text/x-python",
   "name": "python",
   "nbconvert_exporter": "python",
   "pygments_lexer": "ipython3",
   "version": "3.9.7"
  }
 },
 "nbformat": 4,
 "nbformat_minor": 5
}
