{
 "cells": [
  {
   "cell_type": "markdown",
   "id": "4de91104",
   "metadata": {},
   "source": [
    "<h1>Create Z-Scores for Mapping</h1>"
   ]
  },
  {
   "cell_type": "code",
   "execution_count": null,
   "id": "d0776d43",
   "metadata": {},
   "outputs": [],
   "source": [
    "# For reproducibility\n",
    "import random\n",
    "import numpy as np\n",
    "r_state = 42\n",
    "random.seed(r_state) \n",
    "np.random.seed(r_state)\n",
    "\n",
    "import os\n",
    "import re\n",
    "import pandas as pd\n",
    "import seaborn as sns\n",
    "\n",
    "import sklearn\n",
    "\n",
    "from sklearn.preprocessing import scale\n",
    "from sklearn import linear_model\n",
    "from sklearn import tree\n",
    "from sklearn import preprocessing\n",
    "from sklearn import feature_selection\n",
    "from sklearn import model_selection\n",
    "from sklearn import metrics  \n",
    "from sklearn import ensemble\n",
    "\n",
    "#from sklearn.externals.six import StringIO\n",
    "#from sklearn.model_selection import GridSearchCV\n",
    "#from sklearn.feature_selection import SelectKBest \n",
    "#from sklearn.feature_selection import f_regression\n",
    "\n",
    "from timeit import default_timer as timer\n",
    "import datetime\n",
    "\n",
    "# Needed on a Mac\n",
    "import matplotlib as mpl\n",
    "mpl.use('TkAgg')\n",
    "%matplotlib inline\n",
    "import matplotlib.pyplot as plt"
   ]
  },
  {
   "cell_type": "code",
   "execution_count": null,
   "id": "0c65022a",
   "metadata": {},
   "outputs": [],
   "source": [
    "to_use = 'Untransformed'\n",
    "\n",
    "bos_tracts = pd.read_csv('/Users/ritalaplante/Desktop/Thesis Data and Analytics/Census_2010_Tracts.csv', index_col = 0)\n",
    "bos_tracts.rename(columns = {'GEOID10':'geoid'}, inplace = True)\n"
   ]
  },
  {
   "cell_type": "code",
   "execution_count": null,
   "id": "90621c1b",
   "metadata": {},
   "outputs": [],
   "source": [
    "dfRF = pd.read_csv('/Users/ritalaplante/Desktop/Thesis Data and Analytics/07-Neighborhood Predictions/Predicted'+to_use+'RF.csv', index_col=0)\n",
    "dfETR = pd.read_csv('/Users/ritalaplante/Desktop/Thesis Data and Analytics/07-Neighborhood Predictions/Predicted'+to_use+'ETR.csv', index_col=0)\n",
    "dfBos = pd.read_csv('/Users/ritalaplante/Desktop/Thesis Data and Analytics/07-Neighborhood Predictions/Predicted BostonUntransformedRF.csv', index_col=0)\n",
    "\n",
    "dfRF_bos = pd.merge(dfRF, bos_tracts, on='geoid', how='inner')\n",
    "dfETR_bos = pd.merge(dfETR, bos_tracts, on='geoid', how='inner')\n",
    "dfRF_bos.set_index('geoid', inplace = True)\n",
    "dfETR_bos.set_index('geoid', inplace = True)\n",
    "\n",
    "cols = ['SES Percentile Ascent 2010-2019', 'SES Percentile Ascent 2019-2028']\n",
    "\n",
    "dfRF = dfRF[dfRF.columns.intersection(cols)]\n",
    "dfETR = dfETR[dfETR.columns.intersection(cols)]\n",
    "dfBos = dfETR[dfETR.columns.intersection(cols)]\n",
    "\n",
    "dfRF_bos = dfRF[dfRF.columns.intersection(cols)]\n",
    "dfETR_bos = dfETR[dfETR.columns.intersection(cols)]"
   ]
  },
  {
   "cell_type": "code",
   "execution_count": null,
   "id": "295ad183",
   "metadata": {},
   "outputs": [],
   "source": [
    "dfBos.head()"
   ]
  },
  {
   "cell_type": "code",
   "execution_count": null,
   "id": "6a407d5e",
   "metadata": {},
   "outputs": [],
   "source": [
    "cols = list(dfETR.columns)\n",
    "\n",
    "for col in cols:\n",
    "    col_zscore = col + '_zscore'\n",
    "    \n",
    "    dfETR[col_zscore] = (dfETR[col] - dfETR[col].mean())/dfETR[col].std(ddof=0)\n",
    "    dfRF[col_zscore] = (dfRF[col] - dfRF[col].mean())/dfRF[col].std(ddof=0)\n",
    "    dfBos[col_zscore] = (dfBos[col] - dfBos[col].mean())/dfBos[col].std(ddof=0)\n",
    "    \n",
    "    dfETR_bos[col_zscore] = (dfETR_bos[col] - dfETR_bos[col].mean())/dfETR_bos[col].std(ddof=0)\n",
    "    dfRF_bos[col_zscore] = (dfRF_bos[col] - dfRF_bos[col].mean())/dfRF_bos[col].std(ddof=0)"
   ]
  },
  {
   "cell_type": "code",
   "execution_count": null,
   "id": "a2513d42",
   "metadata": {},
   "outputs": [],
   "source": [
    "dfBos.head()"
   ]
  },
  {
   "cell_type": "code",
   "execution_count": null,
   "id": "2cb3a148",
   "metadata": {},
   "outputs": [],
   "source": [
    "# dfRF.to_csv('/Users/ritalaplante/Desktop/Thesis Data and Analytics/07-Neighborhood Predictions/' + to_use + 'RFStandardized.csv', index=True)\n",
    "# dfETR.to_csv('/Users/ritalaplante/Desktop/Thesis Data and Analytics/07-Neighborhood Predictions/' + to_use + 'ETRStandardized.csv', index=True)\n",
    "\n",
    "# dfRF_bos.to_csv('/Users/ritalaplante/Desktop/Thesis Data and Analytics/07-Neighborhood Predictions/' + to_use + 'RFStandardizedBos.csv', index=True)\n",
    "# dfETR_bos.to_csv('/Users/ritalaplante/Desktop/Thesis Data and Analytics/07-Neighborhood Predictions/' + to_use + 'ETRStandardizedBos.csv', index=True)\n",
    "\n",
    "dfBos.to_csv('/Users/ritalaplante/Desktop/Thesis Data and Analytics/07-Neighborhood Predictions/' + to_use + 'StandardizedBoston.csv', index=True)"
   ]
  },
  {
   "cell_type": "code",
   "execution_count": null,
   "id": "5272dc16",
   "metadata": {},
   "outputs": [],
   "source": [
    "fig = plt.figure('SES_PR_ASC 2010-2019')\n",
    "sns.distplot(dfETR_bos['SES Percentile Ascent 2010-2019'], kde=True)      \n",
    "fig = plt.gcf() # *G*et the *C*urrent *F*igure environment so that the next command works\n",
    "plt.savefig('/Users/ritalaplante/Desktop/Thesis Data and Analytics/08-Plot Outputs/SES Ascent 2010-2019-ScoreDistETRBos.png', bbox_inches=\"tight\")\n",
    "plt.close()\n",
    "print(\"Done.\")"
   ]
  },
  {
   "cell_type": "code",
   "execution_count": null,
   "id": "113a7c03",
   "metadata": {},
   "outputs": [],
   "source": [
    "fig = plt.figure('SES_PR_ASC 2010-2019')\n",
    "sns.distplot(dfRF_bos['SES Percentile Ascent 2010-2019'], kde=True)      \n",
    "fig = plt.gcf() # *G*et the *C*urrent *F*igure environment so that the next command works\n",
    "plt.savefig('/Users/ritalaplante/Desktop/Thesis Data and Analytics/08-Plot Outputs/SES Ascent 2010-2019-ScoreDistRFBos.png', bbox_inches=\"tight\")\n",
    "plt.close()\n",
    "print(\"Done.\")"
   ]
  },
  {
   "cell_type": "code",
   "execution_count": null,
   "id": "670c5c08",
   "metadata": {},
   "outputs": [],
   "source": [
    "fig = plt.figure('SES_PR_ASC 2019-2028')\n",
    "sns.distplot(dfETR_bos['SES Percentile Ascent 2019-2028'], kde=True)      \n",
    "fig = plt.gcf() # *G*et the *C*urrent *F*igure environment so that the next command works\n",
    "plt.savefig('/Users/ritalaplante/Desktop/Thesis Data and Analytics/08-Plot Outputs/SES Ascent 2019-2028-ScoreDistETRBos.png', bbox_inches=\"tight\")\n",
    "plt.close()\n",
    "print(\"Done.\")"
   ]
  },
  {
   "cell_type": "code",
   "execution_count": null,
   "id": "38d68cb8",
   "metadata": {},
   "outputs": [],
   "source": [
    "fig = plt.figure('SES_PR_ASC 2019-2028')\n",
    "sns.distplot(dfRF_bos['SES Percentile Ascent 2019-2028'], kde=True)      \n",
    "fig = plt.gcf() # *G*et the *C*urrent *F*igure environment so that the next command works\n",
    "plt.savefig('/Users/ritalaplante/Desktop/Thesis Data and Analytics/08-Plot Outputs/SES Ascent 2019-2028-ScoreDistRFBos.png', bbox_inches=\"tight\")\n",
    "plt.close()\n",
    "print(\"Done.\")"
   ]
  },
  {
   "cell_type": "code",
   "execution_count": null,
   "id": "687b1939",
   "metadata": {},
   "outputs": [],
   "source": []
  }
 ],
 "metadata": {
  "kernelspec": {
   "display_name": "Python 3 (ipykernel)",
   "language": "python",
   "name": "python3"
  },
  "language_info": {
   "codemirror_mode": {
    "name": "ipython",
    "version": 3
   },
   "file_extension": ".py",
   "mimetype": "text/x-python",
   "name": "python",
   "nbconvert_exporter": "python",
   "pygments_lexer": "ipython3",
   "version": "3.9.7"
  }
 },
 "nbformat": 4,
 "nbformat_minor": 5
}
